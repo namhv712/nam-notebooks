{
 "cells": [
  {
   "cell_type": "markdown",
   "metadata": {},
   "source": [
    "### Preparing and train yolo end to end\n",
    "#### Train with even-smaller-yolotinyv3, so call \"supertiny\""
   ]
  },
  {
   "cell_type": "code",
   "execution_count": null,
   "metadata": {},
   "outputs": [],
   "source": [
    "import os,cv2,matplotlib.pyplot as plt"
   ]
  },
  {
   "cell_type": "code",
   "execution_count": null,
   "metadata": {},
   "outputs": [],
   "source": []
  },
  {
   "cell_type": "markdown",
   "metadata": {},
   "source": [
    "### Prepare data, create symlink to the original image & label"
   ]
  },
  {
   "cell_type": "code",
   "execution_count": 5,
   "metadata": {},
   "outputs": [],
   "source": [
    "root_dir = '/mnt/disk2/datasets/Wider-mask-detection/'"
   ]
  },
  {
   "cell_type": "code",
   "execution_count": 16,
   "metadata": {},
   "outputs": [],
   "source": [
    "img_paths = []\n",
    "lbl_paths = []\n",
    "for root,_,files in os.walk(root_dir):\n",
    "    for f in files:\n",
    "        if '.jpg' in f:\n",
    "            lbl_path= root.replace('/images/','/labels/')+'/'+f.replace('.jpg','.txt')\n",
    "            if os.path.exists(lbl_path):\n",
    "                lbl_paths.append (lbl_path)\n",
    "                img_paths.append (root+'/'+f)\n",
    "            "
   ]
  },
  {
   "cell_type": "code",
   "execution_count": 17,
   "metadata": {},
   "outputs": [
    {
     "data": {
      "text/plain": [
       "16098"
      ]
     },
     "execution_count": 17,
     "metadata": {},
     "output_type": "execute_result"
    }
   ],
   "source": [
    "len (lbl_paths)"
   ]
  },
  {
   "cell_type": "code",
   "execution_count": 18,
   "metadata": {},
   "outputs": [],
   "source": [
    "cls = {}\n",
    "for path in lbl_paths:\n",
    "    lines = open(path,'rt').read().strip().split('\\n')\n",
    "    for l in lines:\n",
    "        p = l.split()\n",
    "        cls[p[0]]= 0"
   ]
  },
  {
   "cell_type": "code",
   "execution_count": 20,
   "metadata": {},
   "outputs": [
    {
     "data": {
      "text/plain": [
       "{'0': 0, '1': 0}"
      ]
     },
     "execution_count": 20,
     "metadata": {},
     "output_type": "execute_result"
    }
   ],
   "source": [
    "cls"
   ]
  },
  {
   "cell_type": "markdown",
   "metadata": {},
   "source": [
    "### Create folder for storing symlinks to images & labels"
   ]
  },
  {
   "cell_type": "code",
   "execution_count": 21,
   "metadata": {},
   "outputs": [],
   "source": [
    "!mkdir /home/namhv/source_code/darknet3/data/mask_kaggle/"
   ]
  },
  {
   "cell_type": "code",
   "execution_count": 25,
   "metadata": {},
   "outputs": [],
   "source": [
    "for img_path,lbl_path in zip(img_paths,lbl_paths):\n",
    "    try:\n",
    "        os.symlink(img_path,'/home/namhv/source_code/darknet3/data/mask_kaggle/'+os.path.basename(img_path))\n",
    "        os.symlink(lbl_path,'/home/namhv/source_code/darknet3/data/mask_kaggle/'+os.path.basename(lbl_path))\n",
    "    except:\n",
    "        pass\n",
    "#     break"
   ]
  },
  {
   "cell_type": "markdown",
   "metadata": {},
   "source": [
    "### Create train/validate files"
   ]
  },
  {
   "cell_type": "code",
   "execution_count": 45,
   "metadata": {},
   "outputs": [],
   "source": [
    "writer = open('/home/namhv/source_code/darknet3/data/kaggle_face_train.txt','wt')\n",
    "for img_path,lbl_path in zip(img_paths[:13000],lbl_paths[:13000]):\n",
    "    writer.write('data/mask_kaggle/'+os.path.basename(img_path)+'\\n')\n",
    "writer.close()"
   ]
  },
  {
   "cell_type": "code",
   "execution_count": 32,
   "metadata": {},
   "outputs": [],
   "source": [
    "writer = open('/home/namhv/source_code/darknet3/data/kaggle_face_val.txt','wt')\n",
    "for img_path,lbl_path in zip(img_paths[13000:],lbl_paths[13000:]):\n",
    "    writer.write('data/mask_kaggle/'+os.path.basename(img_path)+'\\n')\n",
    "writer.close()"
   ]
  },
  {
   "cell_type": "code",
   "execution_count": null,
   "metadata": {},
   "outputs": [],
   "source": []
  },
  {
   "cell_type": "markdown",
   "metadata": {},
   "source": [
    "### Create cfg supertiny v3\n",
    "set the classes=2 value in the line 124 and  filters=(classes + 5)x3  in line 172."
   ]
  },
  {
   "cell_type": "code",
   "execution_count": 39,
   "metadata": {},
   "outputs": [],
   "source": [
    "!rm /home/namhv/source_code/darknet3/cfg/kaggle_face_supertiny3.cfg"
   ]
  },
  {
   "cell_type": "code",
   "execution_count": 44,
   "metadata": {},
   "outputs": [
    {
     "name": "stdout",
     "output_type": "stream",
     "text": [
      "Overwriting /home/namhv/source_code/darknet3/cfg/kaggle_face_supertiny3.cfg\n"
     ]
    }
   ],
   "source": [
    "%%writefile /home/namhv/source_code/darknet3/cfg/kaggle_face_supertiny3.cfg\n",
    "[net]\n",
    "# Testing\n",
    "batch=24\n",
    "subdivisions=1\n",
    "# Training\n",
    "batch=2048\n",
    "subdivisions=1\n",
    "width=416\n",
    "height=416\n",
    "channels=3\n",
    "momentum=0.9\n",
    "decay=0.0005\n",
    "angle=0\n",
    "saturation = 1.5\n",
    "exposure = 1.5\n",
    "hue=.1\n",
    "\n",
    "learning_rate=0.001\n",
    "burn_in=1000\n",
    "max_batches = 500200\n",
    "policy=steps\n",
    "steps=400000,450000\n",
    "scales=.1,.1\n",
    "\n",
    "[convolutional]\n",
    "batch_normalize=1\n",
    "filters=16\n",
    "size=3\n",
    "stride=1\n",
    "pad=1\n",
    "activation=leaky\n",
    "\n",
    "[maxpool]\n",
    "size=2\n",
    "stride=2\n",
    "\n",
    "[convolutional]\n",
    "batch_normalize=1\n",
    "filters=16\n",
    "size=3\n",
    "stride=1\n",
    "pad=1\n",
    "activation=leaky\n",
    "\n",
    "[maxpool]\n",
    "size=2\n",
    "stride=2\n",
    "\n",
    "[convolutional]\n",
    "batch_normalize=1\n",
    "filters=32\n",
    "size=3\n",
    "stride=1\n",
    "pad=1\n",
    "activation=leaky\n",
    "\n",
    "[maxpool]\n",
    "size=2\n",
    "stride=2\n",
    "\n",
    "[convolutional]\n",
    "batch_normalize=1\n",
    "filters=64\n",
    "size=3\n",
    "stride=1\n",
    "pad=1\n",
    "activation=leaky\n",
    "\n",
    "[maxpool]\n",
    "size=2\n",
    "stride=2\n",
    "\n",
    "[convolutional]\n",
    "batch_normalize=1\n",
    "filters=64\n",
    "size=3\n",
    "stride=1\n",
    "pad=1\n",
    "activation=leaky\n",
    "\n",
    "[maxpool]\n",
    "size=2\n",
    "stride=2\n",
    "\n",
    "[convolutional]\n",
    "batch_normalize=1\n",
    "filters=128\n",
    "size=3\n",
    "stride=1\n",
    "pad=1\n",
    "activation=leaky\n",
    "\n",
    "[maxpool]\n",
    "size=2\n",
    "stride=1\n",
    "\n",
    "[convolutional]\n",
    "batch_normalize=1\n",
    "filters=128\n",
    "size=3\n",
    "stride=1\n",
    "pad=1\n",
    "activation=leaky\n",
    "\n",
    "###########\n",
    "\n",
    "[convolutional]\n",
    "batch_normalize=1\n",
    "filters=128\n",
    "size=1\n",
    "stride=1\n",
    "pad=1\n",
    "activation=leaky\n",
    "\n",
    "[convolutional]\n",
    "batch_normalize=1\n",
    "filters=256\n",
    "size=3\n",
    "stride=1\n",
    "pad=1\n",
    "activation=leaky\n",
    "\n",
    "[convolutional]\n",
    "size=1\n",
    "stride=1\n",
    "pad=1\n",
    "filters=27\n",
    "activation=linear\n",
    "\n",
    "\n",
    "\n",
    "[yolo]\n",
    "mask = 3,4,5\n",
    "anchors = 10,14,  23,27,  37,58,  81,82,  135,169,  344,319\n",
    "classes=4\n",
    "num=6\n",
    "jitter=.3\n",
    "ignore_thresh = .7\n",
    "truth_thresh = 1\n",
    "random=1\n",
    "\n",
    "[route]\n",
    "layers = -4\n",
    "\n",
    "[convolutional]\n",
    "batch_normalize=1\n",
    "filters=128\n",
    "size=1\n",
    "stride=1\n",
    "pad=1\n",
    "activation=leaky\n",
    "\n",
    "[upsample]\n",
    "stride=2\n",
    "\n",
    "[route]\n",
    "layers = -1, 8\n",
    "\n",
    "[convolutional]\n",
    "batch_normalize=1\n",
    "filters=128\n",
    "size=3\n",
    "stride=1\n",
    "pad=1\n",
    "activation=leaky\n",
    "\n",
    "[convolutional]\n",
    "size=1\n",
    "stride=1\n",
    "pad=1\n",
    "# change this value: filters = (classes+5)*3\n",
    "filters=21\n",
    "activation=linear\n",
    "\n",
    "[yolo]\n",
    "mask = 1,2,3\n",
    "anchors = 10,14,  23,27,  37,58,  81,82,  135,169,  344,319\n",
    "# change this value\n",
    "classes=2\n",
    "num=6\n",
    "jitter=.3\n",
    "ignore_thresh = .7\n",
    "truth_thresh = 1\n",
    "random=1\n"
   ]
  },
  {
   "cell_type": "code",
   "execution_count": 28,
   "metadata": {},
   "outputs": [
    {
     "name": "stdout",
     "output_type": "stream",
     "text": [
      "Writing /home/namhv/source_code/darknet3/cfg/kaggle_face_supertiny3.names\n"
     ]
    }
   ],
   "source": [
    "%%writefile /home/namhv/source_code/darknet3/cfg/kaggle_face_supertiny3.names\n",
    "normal\n",
    "masked"
   ]
  },
  {
   "cell_type": "code",
   "execution_count": 33,
   "metadata": {},
   "outputs": [],
   "source": [
    "!mkdir /home/namhv/source_code/darknet3/backup/kaggle_face/"
   ]
  },
  {
   "cell_type": "code",
   "execution_count": 42,
   "metadata": {},
   "outputs": [],
   "source": [
    "!rm /home/namhv/source_code/darknet3/data/kaggle_face_train.txt"
   ]
  },
  {
   "cell_type": "code",
   "execution_count": 43,
   "metadata": {},
   "outputs": [
    {
     "name": "stdout",
     "output_type": "stream",
     "text": [
      "Writing /home/namhv/source_code/darknet3/cfg/kaggle_face_supertiny3.data\n"
     ]
    }
   ],
   "source": [
    "%%writefile /home/namhv/source_code/darknet3/cfg/kaggle_face_supertiny3.data\n",
    "classes= 2\n",
    "train  = data/kaggle_face_train.txt\n",
    "# valid  = data/head/test.txt\n",
    "names = cfg/kaggle_face_supertiny3.names\n",
    "backup = backup/kaggle_face/"
   ]
  },
  {
   "cell_type": "markdown",
   "metadata": {},
   "source": [
    "### Start training"
   ]
  },
  {
   "cell_type": "code",
   "execution_count": null,
   "metadata": {},
   "outputs": [],
   "source": [
    "!./darknet detector train cfg/kaggle_face_supertiny3.data cfg/kaggle_face_supertiny3.cfg"
   ]
  },
  {
   "cell_type": "code",
   "execution_count": null,
   "metadata": {},
   "outputs": [],
   "source": []
  },
  {
   "cell_type": "markdown",
   "metadata": {},
   "source": [
    "### Test model"
   ]
  },
  {
   "cell_type": "code",
   "execution_count": null,
   "metadata": {},
   "outputs": [],
   "source": [
    "!./darknet -nogpu detector test \\\n",
    "cfg/kaggle_face_supertiny3.data \\\n",
    "cfg/kaggle_face_supertiny3.cfg \\\n",
    "backup/kaggle_face/kaggle_face_supertiny3_1000.weights \\\n",
    "/data/dtcb_data/img_1036.jpg"
   ]
  }
 ],
 "metadata": {
  "kernelspec": {
   "display_name": "Python 3",
   "language": "python",
   "name": "python3"
  },
  "language_info": {
   "codemirror_mode": {
    "name": "ipython",
    "version": 3
   },
   "file_extension": ".py",
   "mimetype": "text/x-python",
   "name": "python",
   "nbconvert_exporter": "python",
   "pygments_lexer": "ipython3",
   "version": "3.6.9"
  }
 },
 "nbformat": 4,
 "nbformat_minor": 4
}
